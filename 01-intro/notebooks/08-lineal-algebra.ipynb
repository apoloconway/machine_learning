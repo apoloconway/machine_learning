{
 "cells": [
  {
   "cell_type": "markdown",
   "id": "92f53166",
   "metadata": {},
   "source": [
    "# LINEAR ALGEBRA"
   ]
  },
  {
   "cell_type": "code",
   "execution_count": 1,
   "id": "7e4926cf",
   "metadata": {},
   "outputs": [],
   "source": [
    "import numpy as np "
   ]
  },
  {
   "cell_type": "markdown",
   "id": "f41d51ed",
   "metadata": {},
   "source": [
    "## VECTOR OPERATIONS "
   ]
  },
  {
   "cell_type": "code",
   "execution_count": 2,
   "id": "3367aeb8",
   "metadata": {},
   "outputs": [],
   "source": [
    "w = np.array([1,4,6,8])\n",
    "u = np.array([2,7,10,-6])"
   ]
  },
  {
   "cell_type": "code",
   "execution_count": 3,
   "id": "74346a51",
   "metadata": {},
   "outputs": [
    {
     "data": {
      "text/plain": [
       "array([ 2,  8, 12, 16])"
      ]
     },
     "execution_count": 3,
     "metadata": {},
     "output_type": "execute_result"
    }
   ],
   "source": [
    "2*w"
   ]
  },
  {
   "cell_type": "code",
   "execution_count": 4,
   "id": "368e089b",
   "metadata": {},
   "outputs": [
    {
     "data": {
      "text/plain": [
       "array([ 3, 11, 16,  2])"
      ]
     },
     "execution_count": 4,
     "metadata": {},
     "output_type": "execute_result"
    }
   ],
   "source": [
    "u+w"
   ]
  },
  {
   "cell_type": "code",
   "execution_count": 5,
   "id": "04981de0",
   "metadata": {},
   "outputs": [
    {
     "data": {
      "text/plain": [
       "array([  2,  28,  60, -48])"
      ]
     },
     "execution_count": 5,
     "metadata": {},
     "output_type": "execute_result"
    }
   ],
   "source": [
    "u*w"
   ]
  },
  {
   "cell_type": "markdown",
   "id": "75beffbb",
   "metadata": {},
   "source": [
    "## MULTIPLICATION "
   ]
  },
  {
   "cell_type": "code",
   "execution_count": 9,
   "id": "b9d697f0",
   "metadata": {},
   "outputs": [
    {
     "data": {
      "text/plain": [
       "4"
      ]
     },
     "execution_count": 9,
     "metadata": {},
     "output_type": "execute_result"
    }
   ],
   "source": [
    "u.shape[0]"
   ]
  },
  {
   "cell_type": "code",
   "execution_count": 12,
   "id": "ba3a828a",
   "metadata": {},
   "outputs": [],
   "source": [
    "def vv_multiplication(u,w):\n",
    "    assert u.shape[0]==w.shape[0]\n",
    "    n=u.shape[0]\n",
    "    \n",
    "    result=0\n",
    "    for i in range(n):\n",
    "        result += u[i]*w[i]\n",
    "\n",
    "    return result "
   ]
  },
  {
   "cell_type": "code",
   "execution_count": 13,
   "id": "495d04ec",
   "metadata": {},
   "outputs": [
    {
     "data": {
      "text/plain": [
       "np.int64(42)"
      ]
     },
     "execution_count": 13,
     "metadata": {},
     "output_type": "execute_result"
    }
   ],
   "source": [
    "vv_multiplication(u,w)"
   ]
  },
  {
   "cell_type": "code",
   "execution_count": 16,
   "id": "2a195e66",
   "metadata": {},
   "outputs": [],
   "source": [
    "v = np.array([1,4,6,8,10])"
   ]
  },
  {
   "cell_type": "code",
   "execution_count": 17,
   "id": "b516c64f",
   "metadata": {},
   "outputs": [
    {
     "ename": "AssertionError",
     "evalue": "",
     "output_type": "error",
     "traceback": [
      "\u001b[31m---------------------------------------------------------------------------\u001b[39m",
      "\u001b[31mAssertionError\u001b[39m                            Traceback (most recent call last)",
      "\u001b[36mCell\u001b[39m\u001b[36m \u001b[39m\u001b[32mIn[17]\u001b[39m\u001b[32m, line 1\u001b[39m\n\u001b[32m----> \u001b[39m\u001b[32m1\u001b[39m \u001b[43mvv_multiplication\u001b[49m\u001b[43m(\u001b[49m\u001b[43mu\u001b[49m\u001b[43m,\u001b[49m\u001b[43mv\u001b[49m\u001b[43m)\u001b[49m\n",
      "\u001b[36mCell\u001b[39m\u001b[36m \u001b[39m\u001b[32mIn[12]\u001b[39m\u001b[32m, line 2\u001b[39m, in \u001b[36mvv_multiplication\u001b[39m\u001b[34m(u, w)\u001b[39m\n\u001b[32m      1\u001b[39m \u001b[38;5;28;01mdef\u001b[39;00m\u001b[38;5;250m \u001b[39m\u001b[34mvv_multiplication\u001b[39m(u,w):\n\u001b[32m----> \u001b[39m\u001b[32m2\u001b[39m     \u001b[38;5;28;01massert\u001b[39;00m u.shape[\u001b[32m0\u001b[39m]==w.shape[\u001b[32m0\u001b[39m]\n\u001b[32m      3\u001b[39m     n=u.shape[\u001b[32m0\u001b[39m]\n\u001b[32m      5\u001b[39m     result=\u001b[32m0\u001b[39m\n",
      "\u001b[31mAssertionError\u001b[39m: "
     ]
    }
   ],
   "source": [
    "vv_multiplication(u,v)"
   ]
  },
  {
   "cell_type": "code",
   "execution_count": 14,
   "id": "3886de52",
   "metadata": {},
   "outputs": [
    {
     "data": {
      "text/plain": [
       "np.int64(42)"
      ]
     },
     "execution_count": 14,
     "metadata": {},
     "output_type": "execute_result"
    }
   ],
   "source": [
    "u.dot(w)"
   ]
  },
  {
   "cell_type": "code",
   "execution_count": 18,
   "id": "180128ba",
   "metadata": {},
   "outputs": [],
   "source": [
    "M=np.array([\n",
    "        [2, 6, 8],\n",
    "        [12, 67, 3],\n",
    "        [-2, 4, 0],\n",
    "\n",
    "])\n",
    "\n",
    "Q=np.array([\n",
    "        [1, 2, 0],\n",
    "        [4, -7, 2],\n",
    "        [2, -1, 0],\n",
    "\n",
    "])"
   ]
  },
  {
   "cell_type": "code",
   "execution_count": 20,
   "id": "6dc46d7c",
   "metadata": {},
   "outputs": [
    {
     "data": {
      "text/plain": [
       "(3, 3)"
      ]
     },
     "execution_count": 20,
     "metadata": {},
     "output_type": "execute_result"
    }
   ],
   "source": [
    "M.shape"
   ]
  },
  {
   "cell_type": "code",
   "execution_count": null,
   "id": "6ebcd5b9",
   "metadata": {},
   "outputs": [],
   "source": []
  }
 ],
 "metadata": {
  "kernelspec": {
   "display_name": ".venv",
   "language": "python",
   "name": "python3"
  },
  "language_info": {
   "codemirror_mode": {
    "name": "ipython",
    "version": 3
   },
   "file_extension": ".py",
   "mimetype": "text/x-python",
   "name": "python",
   "nbconvert_exporter": "python",
   "pygments_lexer": "ipython3",
   "version": "3.13.5"
  }
 },
 "nbformat": 4,
 "nbformat_minor": 5
}
