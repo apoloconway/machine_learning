{
 "cells": [
  {
   "cell_type": "markdown",
   "id": "92f53166",
   "metadata": {},
   "source": [
    "# LINEAR ALGEBRA"
   ]
  },
  {
   "cell_type": "code",
   "execution_count": 148,
   "id": "7e4926cf",
   "metadata": {},
   "outputs": [],
   "source": [
    "import numpy as np "
   ]
  },
  {
   "cell_type": "markdown",
   "id": "f41d51ed",
   "metadata": {},
   "source": [
    "## VECTOR OPERATIONS "
   ]
  },
  {
   "cell_type": "code",
   "execution_count": 149,
   "id": "3367aeb8",
   "metadata": {},
   "outputs": [],
   "source": [
    "w = np.array([1,4,6,8])\n",
    "u = np.array([2,7,10,-6])"
   ]
  },
  {
   "cell_type": "code",
   "execution_count": 150,
   "id": "74346a51",
   "metadata": {},
   "outputs": [
    {
     "data": {
      "text/plain": [
       "array([ 2,  8, 12, 16])"
      ]
     },
     "execution_count": 150,
     "metadata": {},
     "output_type": "execute_result"
    }
   ],
   "source": [
    "2*w"
   ]
  },
  {
   "cell_type": "code",
   "execution_count": 151,
   "id": "368e089b",
   "metadata": {},
   "outputs": [
    {
     "data": {
      "text/plain": [
       "array([ 3, 11, 16,  2])"
      ]
     },
     "execution_count": 151,
     "metadata": {},
     "output_type": "execute_result"
    }
   ],
   "source": [
    "u+w"
   ]
  },
  {
   "cell_type": "code",
   "execution_count": 152,
   "id": "04981de0",
   "metadata": {},
   "outputs": [
    {
     "data": {
      "text/plain": [
       "array([  2,  28,  60, -48])"
      ]
     },
     "execution_count": 152,
     "metadata": {},
     "output_type": "execute_result"
    }
   ],
   "source": [
    "u*w"
   ]
  },
  {
   "cell_type": "markdown",
   "id": "75beffbb",
   "metadata": {},
   "source": [
    "## MULTIPLICATION "
   ]
  },
  {
   "cell_type": "code",
   "execution_count": 153,
   "id": "b9d697f0",
   "metadata": {},
   "outputs": [
    {
     "data": {
      "text/plain": [
       "4"
      ]
     },
     "execution_count": 153,
     "metadata": {},
     "output_type": "execute_result"
    }
   ],
   "source": [
    "u.shape[0]"
   ]
  },
  {
   "cell_type": "code",
   "execution_count": 154,
   "id": "ba3a828a",
   "metadata": {},
   "outputs": [],
   "source": [
    "def vv_multiplication(u,w):\n",
    "    assert u.shape[0]==w.shape[0]\n",
    "    n=u.shape[0]\n",
    "    \n",
    "    result=0\n",
    "    for i in range(n):\n",
    "        result += u[i]*w[i]\n",
    "\n",
    "    return result "
   ]
  },
  {
   "cell_type": "code",
   "execution_count": 155,
   "id": "495d04ec",
   "metadata": {},
   "outputs": [
    {
     "data": {
      "text/plain": [
       "np.int64(42)"
      ]
     },
     "execution_count": 155,
     "metadata": {},
     "output_type": "execute_result"
    }
   ],
   "source": [
    "vv_multiplication(u,w)"
   ]
  },
  {
   "cell_type": "code",
   "execution_count": 156,
   "id": "2a195e66",
   "metadata": {},
   "outputs": [],
   "source": [
    "v = np.array([-2,4,6,8])"
   ]
  },
  {
   "cell_type": "code",
   "execution_count": 157,
   "id": "b516c64f",
   "metadata": {},
   "outputs": [
    {
     "data": {
      "text/plain": [
       "np.int64(36)"
      ]
     },
     "execution_count": 157,
     "metadata": {},
     "output_type": "execute_result"
    }
   ],
   "source": [
    "vv_multiplication(u,v)"
   ]
  },
  {
   "cell_type": "code",
   "execution_count": 158,
   "id": "3886de52",
   "metadata": {},
   "outputs": [
    {
     "data": {
      "text/plain": [
       "np.int64(42)"
      ]
     },
     "execution_count": 158,
     "metadata": {},
     "output_type": "execute_result"
    }
   ],
   "source": [
    "u.dot(w)"
   ]
  },
  {
   "cell_type": "code",
   "execution_count": 159,
   "id": "180128ba",
   "metadata": {},
   "outputs": [],
   "source": [
    "M=np.array([\n",
    "        [2, 6, 8],\n",
    "        [12, 67, 3],\n",
    "        [-2, 4, 0],\n",
    "\n",
    "])\n",
    "\n",
    "v = np.array([-2,6,8])"
   ]
  },
  {
   "cell_type": "code",
   "execution_count": 160,
   "id": "6dc46d7c",
   "metadata": {},
   "outputs": [
    {
     "data": {
      "text/plain": [
       "(3,)"
      ]
     },
     "execution_count": 160,
     "metadata": {},
     "output_type": "execute_result"
    }
   ],
   "source": [
    "M.shape\n",
    "v.shape"
   ]
  },
  {
   "cell_type": "code",
   "execution_count": 161,
   "id": "6ebcd5b9",
   "metadata": {},
   "outputs": [],
   "source": [
    "def mv_multiplication(M,v):\n",
    "    assert M.shape[1]==v.shape[0]\n",
    "    n=M.shape[0]\n",
    "    \n",
    "    result=np.zeros(n)\n",
    "\n",
    "    for i in range(n):\n",
    "        result[i] = M[i].dot(v)\n",
    "\n",
    "    return result "
   ]
  },
  {
   "cell_type": "code",
   "execution_count": 162,
   "id": "d54f238b",
   "metadata": {},
   "outputs": [
    {
     "data": {
      "text/plain": [
       "array([ 96., 402.,  28.])"
      ]
     },
     "execution_count": 162,
     "metadata": {},
     "output_type": "execute_result"
    }
   ],
   "source": [
    "mv_multiplication(M,v)"
   ]
  },
  {
   "cell_type": "code",
   "execution_count": 163,
   "id": "d42a77ec",
   "metadata": {},
   "outputs": [
    {
     "data": {
      "text/plain": [
       "array([ 96, 402,  28])"
      ]
     },
     "execution_count": 163,
     "metadata": {},
     "output_type": "execute_result"
    }
   ],
   "source": [
    "M.dot(v)"
   ]
  },
  {
   "cell_type": "code",
   "execution_count": 164,
   "id": "c8492a92",
   "metadata": {},
   "outputs": [],
   "source": [
    "M=np.array([\n",
    "        [1, 0, 0],\n",
    "        [0, 1, 0],\n",
    "        [0, 0, 1],\n",
    "\n",
    "])\n",
    "\n",
    "Q=np.array([\n",
    "        [1, 2, 0],\n",
    "        [4, -7, 2],\n",
    "        [2, -1, 0],\n",
    "\n",
    "])"
   ]
  },
  {
   "cell_type": "code",
   "execution_count": 165,
   "id": "a11305bb",
   "metadata": {},
   "outputs": [],
   "source": [
    "def mm_multiplication(M,Q):\n",
    "    assert M.shape[1]==Q.shape[0]\n",
    "    n=M.shape[0]\n",
    "    m=Q.shape[1]\n",
    "\n",
    "    result=np.zeros([n,m])\n",
    "\n",
    "    for j in range(m):\n",
    "        result[:,j] += M.dot(Q[:,j])\n",
    "    return result "
   ]
  },
  {
   "cell_type": "code",
   "execution_count": 169,
   "id": "05b6a917",
   "metadata": {},
   "outputs": [
    {
     "data": {
      "text/plain": [
       "array([[ 1.,  2.,  0.],\n",
       "       [ 4., -7.,  2.],\n",
       "       [ 2., -1.,  0.]])"
      ]
     },
     "execution_count": 169,
     "metadata": {},
     "output_type": "execute_result"
    }
   ],
   "source": [
    "mm_multiplication(M,Q)"
   ]
  },
  {
   "cell_type": "code",
   "execution_count": 175,
   "id": "bd96e2a7",
   "metadata": {},
   "outputs": [],
   "source": [
    "m_id=np.eye(3)"
   ]
  },
  {
   "cell_type": "code",
   "execution_count": 178,
   "id": "6a90e9bd",
   "metadata": {},
   "outputs": [
    {
     "data": {
      "text/plain": [
       "array([[ 1.,  2.,  0.],\n",
       "       [ 4., -7.,  2.],\n",
       "       [ 2., -1.,  0.]])"
      ]
     },
     "execution_count": 178,
     "metadata": {},
     "output_type": "execute_result"
    }
   ],
   "source": [
    "Q.dot(m_id)"
   ]
  },
  {
   "cell_type": "code",
   "execution_count": 179,
   "id": "e19c5bb2",
   "metadata": {},
   "outputs": [
    {
     "data": {
      "text/plain": [
       "array([[ True,  True,  True],\n",
       "       [ True,  True,  True],\n",
       "       [ True,  True,  True]])"
      ]
     },
     "execution_count": 179,
     "metadata": {},
     "output_type": "execute_result"
    }
   ],
   "source": [
    "Q.dot(m_id)==Q"
   ]
  },
  {
   "cell_type": "code",
   "execution_count": 181,
   "id": "598314f9",
   "metadata": {},
   "outputs": [
    {
     "data": {
      "text/plain": [
       "array([[ 1,  2,  0],\n",
       "       [ 4, -7,  2],\n",
       "       [ 2, -1,  0]])"
      ]
     },
     "execution_count": 181,
     "metadata": {},
     "output_type": "execute_result"
    }
   ],
   "source": [
    "Q"
   ]
  },
  {
   "cell_type": "code",
   "execution_count": 184,
   "id": "22c25a07",
   "metadata": {},
   "outputs": [],
   "source": [
    "Q_inv=np.linalg.inv(Q)"
   ]
  },
  {
   "cell_type": "code",
   "execution_count": 185,
   "id": "7dacbecb",
   "metadata": {},
   "outputs": [
    {
     "data": {
      "text/plain": [
       "array([[ 1.00000000e+00, -1.88737914e-16,  8.88178420e-18],\n",
       "       [ 0.00000000e+00,  1.00000000e+00, -4.44089210e-18],\n",
       "       [ 0.00000000e+00, -1.97215226e-31,  1.00000000e+00]])"
      ]
     },
     "execution_count": 185,
     "metadata": {},
     "output_type": "execute_result"
    }
   ],
   "source": [
    "Q.dot(Q_inv)"
   ]
  },
  {
   "cell_type": "code",
   "execution_count": null,
   "id": "a35a309c",
   "metadata": {},
   "outputs": [],
   "source": []
  }
 ],
 "metadata": {
  "kernelspec": {
   "display_name": ".venv",
   "language": "python",
   "name": "python3"
  },
  "language_info": {
   "codemirror_mode": {
    "name": "ipython",
    "version": 3
   },
   "file_extension": ".py",
   "mimetype": "text/x-python",
   "name": "python",
   "nbconvert_exporter": "python",
   "pygments_lexer": "ipython3",
   "version": "3.13.5"
  }
 },
 "nbformat": 4,
 "nbformat_minor": 5
}
